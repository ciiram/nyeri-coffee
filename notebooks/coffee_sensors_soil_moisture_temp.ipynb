{
 "cells": [
  {
   "cell_type": "markdown",
   "metadata": {},
   "source": [
    "# Coffee Farm Condition Monitoring\n",
    "\n",
    "This notebook provides code to retrieve data collected using sensors deployed at the Dedan Kimathi University of Technology Coffee farm and display it for visual inspection.\n",
    "\n",
    "We have deployed the following sensors\n",
    "1. Ambient Temperature\n",
    "1. Relative Humidity\n",
    "1. Soil Temperature \n",
    "1. Soil Moisture\n",
    "\n",
    "The aim is to use these data to help plan farming activities such as irrigation and fungicide application.\n",
    "\n",
    "The sensors are connected to a [Nucleo F446re](https://os.mbed.com/platforms/ST-Nucleo-F446RE/) development board running code contained in this [repo](https://github.com/ciiram/nyeri-coffee)."
   ]
  },
  {
   "cell_type": "code",
   "execution_count": null,
   "metadata": {},
   "outputs": [],
   "source": [
    "%matplotlib inline\n",
    "from elasticsearch import Elasticsearch\n",
    "from elasticsearch import helpers\n",
    "from pandas import DataFrame, Series\n",
    "import pandas as pd\n",
    "import matplotlib.pyplot as plt\n",
    "from pandas.io.json import json_normalize\n",
    "from datetime import datetime, timedelta\n",
    "\n",
    "eshost = \"https://search-es-test-ign6g2o7l66nraz2n4gl2pj4dq.eu-west-2.es.amazonaws.com\"\n",
    "\n",
    "es = Elasticsearch(\n",
    "    [eshost],\n",
    "    scheme=\"https\",\n",
    "    port=443,\n",
    ")\n",
    "\n",
    "# call ES to return all docs, using size to define the return size of documents\n",
    "res = es.search(index=\"coffee_sensors_v2\", doc_type=\"sensor\", body={\"query\": {\"match_all\": {}}}, size = 2000)\n",
    "# How many documents\n",
    "print(\"%d documents found\" % res['hits']['total'])\n",
    "\n",
    "# read data to data frame\n",
    "df = json_normalize(res['hits']['hits'])"
   ]
  },
  {
   "cell_type": "code",
   "execution_count": null,
   "metadata": {
    "scrolled": true
   },
   "outputs": [],
   "source": [
    "df"
   ]
  },
  {
   "cell_type": "code",
   "execution_count": null,
   "metadata": {},
   "outputs": [],
   "source": [
    "df.dtypes"
   ]
  },
  {
   "cell_type": "code",
   "execution_count": null,
   "metadata": {
    "collapsed": true
   },
   "outputs": [],
   "source": [
    "# convert data type of time to datetime\n",
    "df[['_source.time']] = df[['_source.time']].apply(pd.to_datetime)"
   ]
  },
  {
   "cell_type": "code",
   "execution_count": null,
   "metadata": {},
   "outputs": [],
   "source": [
    "df.dtypes"
   ]
  },
  {
   "cell_type": "code",
   "execution_count": null,
   "metadata": {},
   "outputs": [],
   "source": [
    "# we are interested in time, ambient temperature and humidity, and soil temperature and humidity\n",
    "df_coffee_farm = df[['_source.time','_source.dev_id','_source.temperature_2', '_source.relative_humidity_3', '_source.analog_in_4', '_source.analog_in_5']]\n",
    "df_coffee_farm.columns = ['time','dev_id','Ambient Temperature', 'Relative Humidity', 'Soil Temperature', 'Soil Moisture']\n",
    "\n",
    "# sorting based on time\n",
    "df_coffee_farm.sort_values(by='time');"
   ]
  },
  {
   "cell_type": "markdown",
   "metadata": {},
   "source": [
    "## Ambient and Soil Temperature"
   ]
  },
  {
   "cell_type": "code",
   "execution_count": null,
   "metadata": {},
   "outputs": [],
   "source": [
    "plt.plot(df_coffee_farm.time + timedelta(hours=3), df_coffee_farm['Ambient Temperature'],'bo')\n",
    "plt.plot(df_coffee_farm.time + timedelta(hours=3), df_coffee_farm['Soil Temperature'],'go')\n",
    "plt.legend(['Ambient Temperature', 'Soil Temperature']);\n",
    "plt.xticks(rotation=45);\n",
    "plt.ylim([0, 50]);\n",
    "plt.xlabel('Time');\n",
    "plt.ylabel('Temperature (Celcius)');"
   ]
  },
  {
   "cell_type": "markdown",
   "metadata": {},
   "source": [
    "## Soil Moisture"
   ]
  },
  {
   "cell_type": "code",
   "execution_count": null,
   "metadata": {},
   "outputs": [],
   "source": [
    "plt.plot(df_coffee_farm.time + timedelta(hours=3), df_coffee_farm['Soil Moisture'],'bo')\n",
    "plt.xticks(rotation=45);\n",
    "plt.ylim([0, 50]);\n",
    "plt.xlabel('Time');\n",
    "plt.ylabel('Soil Moisture (%)');"
   ]
  },
  {
   "cell_type": "markdown",
   "metadata": {},
   "source": [
    "## Relative Humidity"
   ]
  },
  {
   "cell_type": "code",
   "execution_count": null,
   "metadata": {},
   "outputs": [],
   "source": [
    "plt.plot(df_coffee_farm.time + timedelta(hours=3), df_coffee_farm['Relative Humidity'],'bo')\n",
    "plt.xticks(rotation=45);\n",
    "plt.ylim([0, 100]);\n",
    "plt.xlabel('Time');\n",
    "plt.ylabel('Relative Humidity (%)');"
   ]
  }
 ],
 "metadata": {
  "kernelspec": {
   "display_name": "Python 3",
   "language": "python",
   "name": "python3"
  },
  "language_info": {
   "codemirror_mode": {
    "name": "ipython",
    "version": 3
   },
   "file_extension": ".py",
   "mimetype": "text/x-python",
   "name": "python",
   "nbconvert_exporter": "python",
   "pygments_lexer": "ipython3",
   "version": "3.6.1"
  }
 },
 "nbformat": 4,
 "nbformat_minor": 2
}
